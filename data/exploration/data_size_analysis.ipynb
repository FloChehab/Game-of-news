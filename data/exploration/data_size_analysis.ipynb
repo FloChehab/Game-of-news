{
 "cells": [
  {
   "cell_type": "code",
   "execution_count": 1,
   "metadata": {},
   "outputs": [],
   "source": [
    "import os\n",
    "import pandas as pd\n",
    "import numpy as np\n",
    "from os.path import exists as path_exists\n",
    "import matplotlib.pyplot as plt\n",
    "\n",
    "TMP_FOLDER = './tmp/'\n",
    "DATA_FILE_ENGLISH = TMP_FOLDER + 'masterfilelist.txt'\n",
    "DATA_FILE_TRANSLATION = TMP_FOLDER + 'masterfilelist-translation.txt'\n",
    "\n",
    "if not path_exists(TMP_FOLDER):\n",
    "    os.makedirs(TMP_FOLDER)\n",
    "    \n",
    "%matplotlib inline"
   ]
  },
  {
   "cell_type": "code",
   "execution_count": 2,
   "metadata": {},
   "outputs": [],
   "source": [
    "# fetch the data requiered for the analysis\n",
    "if not path_exists(DATA_FILE_ENGLISH):\n",
    "    !wget --directory-prefix tmp http://data.gdeltproject.org/gdeltv2/masterfilelist.txt\n",
    "        \n",
    "if not path_exists(DATA_FILE_TRANSLATION):\n",
    "    !wget --directory-prefix tmp http://data.gdeltproject.org/gdeltv2/masterfilelist-translation.txt"
   ]
  },
  {
   "cell_type": "code",
   "execution_count": 3,
   "metadata": {},
   "outputs": [],
   "source": [
    "data_english = pd.read_csv(DATA_FILE_ENGLISH, \n",
    "                   sep=' ', \n",
    "                   header=None, \n",
    "                   names=['Size', 'Hash', 'Url'],\n",
    "                   dtype={'Size': str})\n",
    "\n",
    "data_translations = pd.read_csv(DATA_FILE_TRANSLATION, \n",
    "                               sep=' ', \n",
    "                               header=None, \n",
    "                               names=['Size', 'Hash', 'Url'],\n",
    "                               dtype={'Size': str})"
   ]
  },
  {
   "cell_type": "code",
   "execution_count": 4,
   "metadata": {},
   "outputs": [],
   "source": [
    "def analysis(data):\n",
    "    # Parsing fails sometimes\n",
    "    d = data[~data.Size.str.contains('http:')]\n",
    "\n",
    "    # casting correct types\n",
    "    d.Size = d.Size.astype(int)\n",
    "    mentions = d[d.Url.str.contains('mentions', na=False)]\n",
    "    events = d[d.Url.str.contains('export', na=False)]\n",
    "    \n",
    "    q = np.arange(0, 1.01, 0.01)\n",
    "    plt.plot(q, (mentions.Size.quantile(q) + events.Size.quantile(q))/1000)\n",
    "    plt.yscale('log')\n",
    "    plt.xlabel('quantile')\n",
    "    plt.ylabel('size in Kbytes')"
   ]
  },
  {
   "cell_type": "code",
   "execution_count": 7,
   "metadata": {},
   "outputs": [
    {
     "data": {
      "image/png": "[encoded data removed]",
      "text/plain": [
       "<Figure size 432x288 with 1 Axes>"
      ]
     },
     "metadata": {
      "needs_background": "light"
     },
     "output_type": "display_data"
    }
   ],
   "source": [
    "analysis(data_english)"
   ]
  },
  {
   "cell_type": "code",
   "execution_count": 6,
   "metadata": {},
   "outputs": [
    {
     "data": {
      "image/png": "[encoded data removed]",
      "text/plain": [
       "<Figure size 432x288 with 1 Axes>"
      ]
     },
     "metadata": {
      "needs_background": "light"
     },
     "output_type": "display_data"
    }
   ],
   "source": [
    "analysis(data_translations)"
   ]
  },
  {
   "cell_type": "code",
   "execution_count": null,
   "metadata": {},
   "outputs": [],
   "source": []
  }
 ],
 "metadata": {
  "kernelspec": {
   "display_name": "Python 3",
   "language": "python",
   "name": "python3"
  },
  "language_info": {
   "codemirror_mode": {
    "name": "ipython",
    "version": 3
   },
   "file_extension": ".py",
   "mimetype": "text/x-python",
   "name": "python",
   "nbconvert_exporter": "python",
   "pygments_lexer": "ipython3",
   "version": "3.7.1"
  },
  "toc": {
   "base_numbering": 1,
   "nav_menu": {},
   "number_sections": true,
   "sideBar": true,
   "skip_h1_title": false,
   "title_cell": "Table of Contents",
   "title_sidebar": "Contents",
   "toc_cell": false,
   "toc_position": {},
   "toc_section_display": true,
   "toc_window_display": false
  }
 },
 "nbformat": 4,
 "nbformat_minor": 2
}
